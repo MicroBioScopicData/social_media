{
 "cells": [
  {
   "cell_type": "markdown",
   "id": "937f0ce7",
   "metadata": {
    "toc": true
   },
   "source": [
    "<h1>Table of Contents<span class=\"tocSkip\"></span></h1>\n",
    "<div class=\"toc\"><ul class=\"toc-item\"><li><span><a href=\"#Completing-LinkedIn-Automation-Script-for-Sending-Connection-Requests\" data-toc-modified-id=\"Completing-LinkedIn-Automation-Script-for-Sending-Connection-Requests-1\"><span class=\"toc-item-num\">1&nbsp;&nbsp;</span>Completing LinkedIn Automation Script for Sending Connection Requests</a></span></li><li><span><a href=\"#The-Complete-LinkedIn-Automation-Script-for-Sending-Connection-Requests\" data-toc-modified-id=\"The-Complete-LinkedIn-Automation-Script-for-Sending-Connection-Requests-2\"><span class=\"toc-item-num\">2&nbsp;&nbsp;</span>The Complete LinkedIn Automation Script for Sending Connection Requests</a></span></li><li><span><a href=\"#Important-Considerations-for-this-Process\" data-toc-modified-id=\"Important-Considerations-for-this-Process-3\"><span class=\"toc-item-num\">3&nbsp;&nbsp;</span>Important Considerations for this Process</a></span></li><li><span><a href=\"#Conclusion\" data-toc-modified-id=\"Conclusion-4\"><span class=\"toc-item-num\">4&nbsp;&nbsp;</span>Conclusion</a></span></li><li><span><a href=\"#References:\" data-toc-modified-id=\"References:-5\"><span class=\"toc-item-num\">5&nbsp;&nbsp;</span>References:</a></span></li></ul></div>"
   ]
  },
  {
   "cell_type": "markdown",
   "id": "e1f06d7d",
   "metadata": {},
   "source": [
    "# Automating LinkedIn Connections with Python: Expanding Your Network (Part 2)\n",
    "\n",
    "\n",
    "In the first part of our tutorial, we explored how to use the power of Python to automate the process of sending connection requests on LinkedIn. Specifically, we covered the login process and how to search for potential connections. In this second part, we will iterate through the search result pages, locating and clicking the 'Connect' buttons on profiles. After each click, we will send a connection request, dismiss the request dialog, and acknowledge any informational dialogs.\n",
    "\n",
    "Disclaimer: Automating requests on LinkedIn may be illegal or violate the platform's rules. Excessive use may lead to your account being banned\n"
   ]
  },
  {
   "cell_type": "markdown",
   "id": "9fb03e8b",
   "metadata": {},
   "source": [
    "##  Completing LinkedIn Automation Script for Sending Connection Requests\n",
    "\n",
    "After logging into my LinkedIn account, as explained in the first part, my primary goal was to connect with coworkers and colleagues who work at NCSR Demokritos. I manually searched for individuals who work at the National Centre For Scientific Research 'Demokritos'.\n",
    "\n",
    "1. To complete our automation, we store this search for coworkers and colleagues who work at NCSR Demokritos in a variable called search_url and use the `driver.get()` method to open it.\n",
    "\n",
    "2. **We loop through pages**:  (adjustable range) to perform the following actions for each page:\n",
    "    \n",
    "    2.1 `all_buttons = driver.find_elements(By.XPATH, \"//button\")`: Inside the loop, we uses Selenium's wait.until() method to wait for the presence of all buttons on the page (using an XPath selector). This ensures that the page has loaded before proceeding. Our intension is to find the `Connect buttons` (to click on in order to send the request) from the the all_buttons list.\n",
    "    \n",
    "    2.2`connect_buttons = [btn for btn in all_buttons if btn.text == \"Connect\"]`:  Creates a new list called connect_buttons using a list comprehension. It iterates through each element in the all_buttons list (which contains all the button elements on the page) and checks if the text of each button is equal to \"Connect.\" If a button's text is \"Connect,\" it is included in the connect_buttons list (these are the buttons we want to click to send connection requests on LinkedIn).    \n",
    "    \n",
    "    2.3 If there are \"Connect\" buttons found (`if connect_buttons:`), it enters another loop to iterate over these buttons. For each \"Connect\" button:  \n",
    "    \n",
    "        2.3.1 It clicks the \"Connect\" button using `driver.execute_script()`.  \n",
    "        2.3.2 It finds and clicks the \"Send now\" button and the \"close\" button, both using `driver.execute_script()`. We use JavaScript in order to avoid LinkedIn blockers.   \n",
    "    \n",
    "    2.4  If there are no \"Connect\" buttons (`else:`), it finds \"Next\" button (from the list all_buttons) and clicks it. This helps to navigate to the next page of search results.\n",
    "         \n",
    "    \n",
    "![](send.jpg)\n",
    "\n",
    "    2.5 The script repeats this process in the loop for the desired number of iterations.  \n",
    "    \n",
    "  "
   ]
  },
  {
   "cell_type": "code",
   "execution_count": null,
   "id": "c89b6522",
   "metadata": {},
   "outputs": [],
   "source": [
    "search_url = \"https://www.linkedin.com/search/results/people/?keywords=NCSR%20Demokritos&network=%5B%22S%22%5D&origin=FACETED_SEARCH&sid=OMj\"\n",
    "# Open the specified URL (LinkedIn)\n",
    "driver.get(search_url)\n",
    "time.sleep(2)\n",
    "\n",
    "for i in range(1, 20):  # Adjust the range as needed\n",
    "    all_buttons = wait.until(EC.presence_of_all_elements_located((By.XPATH, \"//button\")))\n",
    "    connect_buttons = [btn for btn in all_buttons if btn.text == \"Connect\"]\n",
    "    \n",
    "    if connect_buttons:\n",
    "        \n",
    "        for btn in connect_buttons:\n",
    "            driver.execute_script(\"arguments[0].click();\", btn)\n",
    "            time.sleep(3)\n",
    "            send_button = wait.until(EC.presence_of_element_located((By.XPATH, \"//button[@aria-label='Send now']\")))\n",
    "            driver.execute_script(\"arguments[0].click();\", send_button)\n",
    "            close = wait.until(EC.presence_of_element_located((By.XPATH, \"//button[@aria-label='Dismiss']\")))\n",
    "            driver.execute_script(\"arguments[0].click();\", close)\n",
    "            time.sleep(5)\n",
    "    else:\n",
    "        all_buttons = wait.until(EC.presence_of_all_elements_located((By.XPATH, \"//button\")))\n",
    "        next_button = [nextbtn for nextbtn in all_buttons if nextbtn.text == \"Next\"]\n",
    "        for nextbtn in next_button:\n",
    "            driver.execute_script(\"arguments[0].click();\", nextbtn)\n",
    "            time.sleep(2)"
   ]
  },
  {
   "cell_type": "markdown",
   "id": "540d6a29",
   "metadata": {},
   "source": [
    "## The Complete LinkedIn Automation Script for Sending Connection Requests\n",
    "\n",
    "This Python script utilizes the Selenium library to automate interactions with LinkedIn, specifically for sending connection requests. It begins by initializing the ChromeDriver and navigating to LinkedIn's home page, where it enters the login credentials and logs in. The script then iterates through search result pages, locating and clicking the 'Connect' buttons on profiles. After each click, it sends a connection request, dismisses the request dialog, and acknowledges any informational dialog. Delays are included to ensure smooth interactions; you can adjust them as needed. If no 'Connect' buttons are found on a page, the script proceeds to the next."
   ]
  },
  {
   "cell_type": "code",
   "execution_count": null,
   "id": "f04019a3",
   "metadata": {},
   "outputs": [],
   "source": [
    "from selenium import webdriver\n",
    "from selenium.webdriver.common.keys import Keys\n",
    "from selenium.webdriver.common.by import By\n",
    "from selenium.webdriver.support.ui import WebDriverWait\n",
    "from selenium.webdriver.support import expected_conditions as EC\n",
    "from selenium.webdriver.chrome.service import Service\n",
    "from datetime import datetime\n",
    "import time\n",
    "\n",
    "# Set the path to the ChromeDriver executable\n",
    "chromedriver_path = \"/Users/alexandrosathanasopoulos/Library/CloudStorage/OneDrive-7mrcv5/Projects/Medium Writing/Automate posting on social with Python/chromedriver-mac-arm64/chromedriver\"\n",
    "# chromedriver_path = r\"C:\\Users\\Alexandros\\OneDrive - 7mrcv5\\Projects\\Medium Writing\\Automate posting on social with Python\\chromedriver-win64\\chromedriver-win64\\chromedriver.exe\"\n",
    "\n",
    "# Create a Service object with the executable path\n",
    "chrome_service = Service(executable_path=chromedriver_path)\n",
    "\n",
    "# Initialize the WebDriver using the Service object\n",
    "driver = webdriver.Chrome(service=chrome_service)\n",
    "\n",
    "# Define a variable url and assigns it the URL of LinkedIn's home page\n",
    "url = \"https://www.linkedin.com/home\"\n",
    "\n",
    "# Open the specified URL (LinkedIn)\n",
    "driver.get(url)\n",
    "\n",
    "# Sets up a maximum wait time for the WebDriver using Selenium's WebDriverWait class\n",
    "wait = WebDriverWait(driver, 30)  # Adjust the timeout as needed, here is 10 seconds\n",
    "\n",
    "# Maximize the browser window\n",
    "driver.maximize_window() # Optional: I maximize the window during the tetsing of the code\n",
    "\n",
    "# We wait for specific elements to be present on the web page before interacting with them\n",
    "email = wait.until(EC.presence_of_element_located((By.XPATH, \"//input[@name='session_key']\")))\n",
    "password = wait.until(EC.presence_of_element_located((By.XPATH, \"//input[@name='session_password']\")))\n",
    "button = wait.until(EC.presence_of_element_located((By.XPATH, \"//button[@data-id='sign-in-form__submit-btn']\")))\n",
    "\n",
    "# Enter the email address\n",
    "# We send the email address to the 'email' input field\n",
    "email.send_keys(\"microbioscopicdata@gmail.com\")\n",
    "\n",
    "# Read the password from a file\n",
    "# We read the password from a file named \"MicroBioScopiData_password.txt\" and remove any newline characters\n",
    "with open(\"MicroBioScopiData_password.txt\") as PW:\n",
    "    password_microbioscopicdata = PW.read().replace(\"\\n\", \"\")\n",
    "\n",
    "# Enter the password\n",
    "# We send the password to the 'password' input field\n",
    "password.send_keys(password_microbioscopicdata)\n",
    "\n",
    "# Click the sign-in button\n",
    "# After entering the email and password, we click the sign-in button to log in\n",
    "button.click()\n",
    "\n",
    "search_url = \"https://www.linkedin.com/search/results/people/?keywords=NCSR%20Demokritos&network=%5B%22S%22%5D&origin=FACETED_SEARCH&sid=OMj\"\n",
    "# Open the specified URL (LinkedIn)\n",
    "driver.get(search_url)\n",
    "time.sleep(2)\n",
    "\n",
    "for i in range(1, 20):  # Adjust the range as needed\n",
    "    all_buttons = wait.until(EC.presence_of_all_elements_located((By.XPATH, \"//button\")))\n",
    "    connect_buttons = [btn for btn in all_buttons if btn.text == \"Connect\"]\n",
    "    \n",
    "    if connect_buttons:\n",
    "        \n",
    "        for btn in connect_buttons:\n",
    "            print(btn)\n",
    "            driver.execute_script(\"arguments[0].click();\", btn)\n",
    "            time.sleep(3)\n",
    "            send_button = wait.until(EC.presence_of_element_located((By.XPATH, \"//button[@aria-label='Send now']\")))\n",
    "            driver.execute_script(\"arguments[0].click();\", send_button)\n",
    "            close = wait.until(EC.presence_of_element_located((By.XPATH, \"//button[@aria-label='Dismiss']\")))\n",
    "            driver.execute_script(\"arguments[0].click();\", close)\n",
    "            time.sleep(5)\n",
    "    else:\n",
    "        all_buttons = wait.until(EC.presence_of_all_elements_located((By.XPATH, \"//button\")))\n",
    "        next_button = [nextbtn for nextbtn in all_buttons if nextbtn.text == \"Next\"]\n",
    "        for nextbtn in next_button:\n",
    "            driver.execute_script(\"arguments[0].click();\", nextbtn)\n",
    "            time.sleep(2)"
   ]
  },
  {
   "cell_type": "markdown",
   "id": "1723bf30",
   "metadata": {},
   "source": [
    "## Important Considerations for this Process\n",
    "\n",
    "- **Connection Request Limit**: As a free LinkedIn user, please be aware that there is a finite limit on the number of connection requests you can send, which is approximately 100.\n",
    "\n",
    "\n",
    "- **Pagination Adjustments**: When implementing the code, keep in mind that each page displays a finite number of   profiles. Some of these profiles may already be connected with us. To manage this, consider adjusting the page range in the code snippet, such as `for i in range(1, 20):`. For instance, during one week, you can start from page 1 to 20, and in the following week, continue from page 20 to 40.  \n",
    "\n",
    "\n",
    "- Furthermore, to bypass issues that may arise when interacting with LinkedIn, we can implement a retry mechanism. If an error occurs during the main loop (such as encountering a LinkedIn pop-up, network issues, or intermittent errors), the script will make up to four attempts to complete the entire process before concluding and exiting [2].\n",
    "\n"
   ]
  },
  {
   "cell_type": "code",
   "execution_count": null,
   "id": "ec030731",
   "metadata": {},
   "outputs": [],
   "source": [
    "search_url = \"https://www.linkedin.com/search/results/people/?keywords=NCSR%20Demokritos&network=%5B%22S%22%5D&origin=FACETED_SEARCH&sid=OMj\"\n",
    "# Open the specified URL (LinkedIn)\n",
    "driver.get(search_url)\n",
    "time.sleep(2)\n",
    "\n",
    "# maximum number of retry attempts\n",
    "max_retries = 4\n",
    "\n",
    "# Retry Loop\n",
    "for retry in range(max_retries):\n",
    "    try:\n",
    "        driver.get(search_url)\n",
    "        for i in range(1, 20):  # Adjust the range as needed\n",
    "            all_buttons = wait.until(EC.presence_of_all_elements_located((By.XPATH, \"//button\")))\n",
    "            connect_buttons = [btn for btn in all_buttons if btn.text == \"Connect\"]\n",
    "\n",
    "            if connect_buttons:\n",
    "                for btn in connect_buttons:\n",
    "                    driver.execute_script(\"arguments[0].click();\", btn)\n",
    "                    time.sleep(3)\n",
    "                    send_button = wait.until(EC.presence_of_element_located((By.XPATH, \"//button[@aria-label='Send now']\")))\n",
    "                    driver.execute_script(\"arguments[0].click();\", send_button)\n",
    "                    close = wait.until(EC.presence_of_element_located((By.XPATH, \"//button[@aria-label='Dismiss']\")))\n",
    "                    driver.execute_script(\"arguments[0].click();\", close)\n",
    "                    time.sleep(5)\n",
    "            else:\n",
    "                all_buttons = wait.until(EC.presence_of_all_elements_located((By.XPATH, \"//button\")))\n",
    "                next_button = [nextbtn for nextbtn in all_buttons if nextbtn.text == \"Next\"]\n",
    "                for nextbtn in next_button:\n",
    "                    driver.execute_script(\"arguments[0].click();\", nextbtn)\n",
    "                    time.sleep(2)\n",
    "        \n",
    "        # If the loop completes without errors, break out of the retry loop.\n",
    "        break\n",
    "\n",
    "    except Exception as e:\n",
    "        print(f\"Attempt {retry + 1} failed with error: {e}\")\n",
    "        if retry < max_retries - 1:\n",
    "            print(\"Retrying...\")\n",
    "            continue\n",
    "        else:\n",
    "            print(\"Max retries reached. Exiting.\")\n"
   ]
  },
  {
   "cell_type": "markdown",
   "id": "08680e3b",
   "metadata": {},
   "source": [
    "## Conclusion\n",
    "In conclusion, the second part of our tutorial We've navigated through the search result pages systematically, demonstrating how to precisely locate and interact with the 'Connect' buttons on different profiles. We've  executed connection requests,  dismissed the ensuing request dialogs, and  acknowledged any supplementary informational dialogs that may arise.\n",
    "\n",
    "Through this comprehensive tutorial, we have offered a step-by-step guide on optimizing our LinkedIn profile by increasing the number of connections. By automating these essential tasks, we can not only enhance our profile's efficiency but also free up valuable time and concentrate our efforts on more strategic and meaningful activities. In case you have a suggestion to imrove this code, please write in teh comments.\n",
    "\n",
    "\n",
    "If you enjoy reading stories of this nature and wish to show your support for my writing, you may contemplate becoming a Medium member. By subscribing for just $5 per month, you’ll gain boundless entry to a vast collection of Python guides and Data science articles. Additionally, if you choose to sign up through my referral link, I’ll receive a modest commission at no extra cost to you.\n"
   ]
  },
  {
   "cell_type": "markdown",
   "id": "08a4a764",
   "metadata": {},
   "source": [
    "## References:  \n",
    "\n",
    "[1] MicroBioscopicData. ‘Exception & Error Handling in Python’. Medium, 29 August 2023. https://pub.towardsai.net/exception-error-handling-in-python-8d36bfe6f776.\n"
   ]
  }
 ],
 "metadata": {
  "kernelspec": {
   "display_name": "Python 3 (ipykernel)",
   "language": "python",
   "name": "python3"
  },
  "language_info": {
   "codemirror_mode": {
    "name": "ipython",
    "version": 3
   },
   "file_extension": ".py",
   "mimetype": "text/x-python",
   "name": "python",
   "nbconvert_exporter": "python",
   "pygments_lexer": "ipython3",
   "version": "3.11.4"
  },
  "toc": {
   "base_numbering": 1,
   "nav_menu": {},
   "number_sections": true,
   "sideBar": false,
   "skip_h1_title": true,
   "title_cell": "Table of Contents",
   "title_sidebar": "Contents",
   "toc_cell": true,
   "toc_position": {
    "height": "524.167px",
    "left": "296px",
    "top": "144px",
    "width": "320px"
   },
   "toc_section_display": true,
   "toc_window_display": false
  },
  "varInspector": {
   "cols": {
    "lenName": 16,
    "lenType": 16,
    "lenVar": 40
   },
   "kernels_config": {
    "python": {
     "delete_cmd_postfix": "",
     "delete_cmd_prefix": "del ",
     "library": "var_list.py",
     "varRefreshCmd": "print(var_dic_list())"
    },
    "r": {
     "delete_cmd_postfix": ") ",
     "delete_cmd_prefix": "rm(",
     "library": "var_list.r",
     "varRefreshCmd": "cat(var_dic_list()) "
    }
   },
   "types_to_exclude": [
    "module",
    "function",
    "builtin_function_or_method",
    "instance",
    "_Feature"
   ],
   "window_display": false
  }
 },
 "nbformat": 4,
 "nbformat_minor": 5
}
