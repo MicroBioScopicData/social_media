{
 "cells": [
  {
   "cell_type": "markdown",
   "id": "372dc7ce",
   "metadata": {
    "toc": true
   },
   "source": [
    "<h1>Table of Contents<span class=\"tocSkip\"></span></h1>\n",
    "<div class=\"toc\"><ul class=\"toc-item\"><li><span><a href=\"#The-Need-for-Automation:\" data-toc-modified-id=\"The-Need-for-Automation:-1\"><span class=\"toc-item-num\">1&nbsp;&nbsp;</span>The Need for Automation:</a></span></li><li><span><a href=\"#Install-and-Import-Libraries-and-Packages\" data-toc-modified-id=\"Install-and-Import-Libraries-and-Packages-2\"><span class=\"toc-item-num\">2&nbsp;&nbsp;</span>Install and Import Libraries and Packages</a></span></li><li><span><a href=\"#Setting-Up-Selenium-WebDriver-and-Navigating-to-a-URL\" data-toc-modified-id=\"Setting-Up-Selenium-WebDriver-and-Navigating-to-a-URL-3\"><span class=\"toc-item-num\">3&nbsp;&nbsp;</span>Setting Up Selenium WebDriver and Navigating to a URL</a></span></li><li><span><a href=\"#Login-with-Waiting-for-Element-Presence\" data-toc-modified-id=\"Login-with-Waiting-for-Element-Presence-4\"><span class=\"toc-item-num\">4&nbsp;&nbsp;</span>Login with Waiting for Element Presence</a></span></li><li><span><a href=\"#Connecting-with-NCSR-Demokritos-Colleagues-on-LinkedIn\" data-toc-modified-id=\"Connecting-with-NCSR-Demokritos-Colleagues-on-LinkedIn-5\"><span class=\"toc-item-num\">5&nbsp;&nbsp;</span>Connecting with NCSR Demokritos Colleagues on LinkedIn</a></span></li><li><span><a href=\"#Conclusion\" data-toc-modified-id=\"Conclusion-6\"><span class=\"toc-item-num\">6&nbsp;&nbsp;</span>Conclusion</a></span></li><li><span><a href=\"#References:\" data-toc-modified-id=\"References:-7\"><span class=\"toc-item-num\">7&nbsp;&nbsp;</span>References:</a></span></li></ul></div>"
   ]
  },
  {
   "cell_type": "markdown",
   "id": "251bd3e2",
   "metadata": {},
   "source": [
    "# Automating LinkedIn Connections with Python: Expanding Your Network (for Beginners)\n",
    "Find more tutorials about Computer Vision, Microscopy, Biology and Data Science [here](https://medium.com/@microbioscopicdata)\n",
    "\n",
    "\n",
    "In this initial segment of our tutorial, we will explore how to leverage the power of Python to automate the process of sending connection requests on LinkedIn. As a dedicated social network tailored for professionals, LinkedIn offers immense value to individuals spanning diverse industries. Our tutorial begins with a crucial emphasis on establishing the essential software infrastructure required for this automation. We'll not only navigate through the login process but also uncover how to search for colleagues. It's worth noting that my inspiration and majority of the code for this tutorial comes from PythonSimplified (you can find the video here), and our chosen tool for automation is Selenium, paired with the versatile Chrome web browser.\n",
    "\n"
   ]
  },
  {
   "cell_type": "markdown",
   "id": "0f8bf1ea",
   "metadata": {},
   "source": [
    "## The Need for Automation:\n",
    "Allow me to introduce myself; I am Alexandros Athanasopoulos, a molecular biologist, Microscopist with a growing interest in data science. Currently, I work at the largest research center in Greece, National Centre For Scientific Research (NCSR) \"Demokritos\". As I started my journey to learn and share insights and knowledge through the Medium platform, I created a dedicated account under the username \"MicroBioScopicData.\" My mission is to connect with all my colleagues at NCSR Demokritos, a research center boasting more than 1000 talented individuals. To tackle this ambitious goal efficiently, we will delve into the world of automation and harness the capabilities of Selenium and Chrome.  \n",
    "\n",
    "![](linkedin_alexandros.jpg)\n",
    "![](linkedin_microbioscopicdata.jpg)"
   ]
  },
  {
   "cell_type": "markdown",
   "id": "713aa4ff",
   "metadata": {},
   "source": [
    "My plan is to break down the code into small, easily understandable segments, providing detailed explanations throughout this tutorial. By the end of the second part, all the code will be organized into one cohesive piece. I have prepared a Jupyter Notebook to accompany this blog post, which can be viewed on my GitHub."
   ]
  },
  {
   "cell_type": "markdown",
   "id": "4254bbf9",
   "metadata": {},
   "source": [
    "## Install and Import Libraries and Packages\n",
    "\n",
    "In our script, we rely on essential libraries and modules for automating web browser interactions (Selenium), simulating keyboard actions (Keys), managing time-related delays (time), waiting for specific conditions (WebDriverWait and expected_conditions), and handling date and time data (datetime) as needed for our automation tasks.\n",
    "\n",
    "Step 1: Download and Install Google Chrome (or another browser of your preference).\n",
    "\n",
    "Step 2: Download Chromedriver for your Chrome browser (or  download the Chromedriver for any other browser of your preference) and save it on your PC. Chromedriver, developed by the creators of Chrome, enables Selenium to automate control of the Chrome browser automatically. For additional information, refer to [1].\n",
    "\n",
    "Step 3: Install Selenium (pip install selenium). Selenium, the primary tool in our automation toolkit, is a powerful web automation framework that allows us to interact with web browsers programmatically. For more details on installing Selenium and Chromedriver, consult [2].\n"
   ]
  },
  {
   "cell_type": "code",
   "execution_count": null,
   "id": "6c40037c",
   "metadata": {},
   "outputs": [],
   "source": [
    "# !pip install selenium\n",
    "from selenium import webdriver\n",
    "from selenium.webdriver.common.keys import Keys\n",
    "from selenium.webdriver.common.by import By\n",
    "from selenium.webdriver.support.ui import WebDriverWait\n",
    "from selenium.webdriver.support import expected_conditions as EC\n",
    "from selenium.webdriver.chrome.service import Service\n",
    "from datetime import datetime\n",
    "import time"
   ]
  },
  {
   "cell_type": "markdown",
   "id": "a45fed02",
   "metadata": {},
   "source": [
    "## Setting Up Selenium WebDriver and Navigating to a URL\n",
    "\n",
    "After importing the necessary packages, we set up the Selenium WebDriver for Chrome and specify the URL to visit (the LinkedIn home page, of course!). The most important step is the initialization of a Chrome WebDriver instance using the ChromeDriver executable file located at the given file path. This sets up a connection to the Chrome browser, enabling automation of browser actions.\n"
   ]
  },
  {
   "cell_type": "code",
   "execution_count": null,
   "id": "c2bf3d76",
   "metadata": {},
   "outputs": [],
   "source": [
    "# Set the path to the ChromeDriver executable\n",
    "chromedriver_path = r\"C:\\Users\\Alexandros\\OneDrive - 7mrcv5\\Projects\\Medium Writing\\Automate posting on social with Python\\chromedriver-win64\\chromedriver-win64\\chromedriver.exe\"\n",
    "\n",
    "# Create a Service object with the executable path\n",
    "chrome_service = Service(executable_path=chromedriver_path)\n",
    "\n",
    "# Initialize the WebDriver using the Service object\n",
    "driver = webdriver.Chrome(service=chrome_service)\n",
    "\n",
    "# Define a variable url and assigns it the URL of LinkedIn's home page\n",
    "url = \"https://www.linkedin.com/home\"\n",
    "\n",
    "# Open the specified URL (LinkedIn)\n",
    "driver.get(url)\n",
    "\n",
    "# Sets up a maximum wait time for the WebDriver using Selenium's WebDriverWait class\n",
    "wait = WebDriverWait(driver, 10)  # Adjust the timeout as needed, here is 10 seconds\n",
    "\n",
    "# Maximize the browser window\n",
    "driver.maximize_window() # Optional: I maximize the window during the tetsing of the code\n"
   ]
  },
  {
   "cell_type": "markdown",
   "id": "25312314",
   "metadata": {},
   "source": [
    "##  Login with Waiting for Element Presence\n",
    "\n",
    "Then we utilizes Selenium's WebDriverWait and Expected Conditions (EC) to wait for specific elements to become present on the web page of LinkedIn (email input, password input, and a sign-in button). Once these elements are present, the script enters email and password values and then clicks the sign-in button. This approach ensures that the script interacts with the web page only when the necessary elements are ready, enhancing automation reliability.\n",
    "\n"
   ]
  },
  {
   "cell_type": "code",
   "execution_count": null,
   "id": "ff41f385",
   "metadata": {},
   "outputs": [],
   "source": [
    "# We wait for specific elements to be present on the web page before interacting with them\n",
    "email = wait.until(EC.presence_of_element_located((By.XPATH, \"//input[@name='session_key']\")))\n",
    "password = wait.until(EC.presence_of_element_located((By.XPATH, \"//input[@name='session_password']\")))\n",
    "button = wait.until(EC.presence_of_element_located((By.XPATH, \"//button[@data-id='sign-in-form__submit-btn']\")))\n",
    "\n",
    "# Enter the email address\n",
    "# We send the email address to the 'email' input field\n",
    "email.send_keys(\"microbioscopicdata@gmail.com\")\n",
    "\n",
    "# Read the password from a file\n",
    "# We read the password from a file named \"MicroBioScopiData_password.txt\" and remove any newline characters\n",
    "with open(\"MicroBioScopiData_password.txt\") as PW:\n",
    "    password_microbioscopicdata = PW.read().replace(\"\\n\", \"\")\n",
    "\n",
    "# Enter the password\n",
    "# We send the password to the 'password' input field\n",
    "password.send_keys(password_microbioscopicdata)\n",
    "\n",
    "# Click the sign-in button\n",
    "# After entering the email and password, we click the sign-in button to log in\n",
    "button.click()"
   ]
  },
  {
   "cell_type": "markdown",
   "id": "485d1cd7",
   "metadata": {},
   "source": [
    "## Connecting with NCSR Demokritos Colleagues on LinkedIn\n",
    "After logging into my LinkedIn account, as explained earlier, my primary goal is to connect with coworkers and colleagues who work at NCSR Demokritos. To achieve this:\n",
    "\n",
    "1. manually search for individuals using the keywords 'NCSR DEMOKRITOS'.\n",
    "2. select 'People' from the search results \n",
    "3. choose connections of the second degree from the dropdown menu\n",
    "4. copy the url\n",
    "\n",
    "![](ncsr.jpg)"
   ]
  },
  {
   "cell_type": "markdown",
   "id": "43662c73",
   "metadata": {},
   "source": [
    "To automate navigation between pages with changing URLs on LinkedIn search results, we can identify the common patterns and parameters that change in the URLs. In our case, the page parameter in the URL changes as we move from one page to another.\n",
    "\n",
    "![](pages.jpg)"
   ]
  },
  {
   "cell_type": "code",
   "execution_count": null,
   "id": "76449ca3",
   "metadata": {},
   "outputs": [],
   "source": [
    "# Open the specified URL (LinkedIn)\n",
    "driver.get(\"https://www.linkedin.com/search/results/people/?keywords=NCSR%20DDEMOKRITOS&network=%5B%22S%22%5D&origin=FACETED_SEARCH&page=1&sid=8c_\")\n",
    "time.sleep(5)"
   ]
  },
  {
   "cell_type": "markdown",
   "id": "229e9e55",
   "metadata": {},
   "source": [
    "## Conclusion\n",
    "\n",
    "In the initial part of our tutorial, we have embarked on the journey of discovering efficient methods for logging into our LinkedIn account and conducting colleague searches within this specialized professional social network.In the forthcoming Part 2, we will venture even further into the automation, by completing the LinkedIn connection automation project, unveiling additional insights and techniques to streamline your networking experience.\n",
    "\n",
    "If you enjoy reading stories of this nature and wish to show your support for my writing, you may contemplate becoming a Medium member. By subscribing for just $5 per month, you’ll gain boundless entry to a vast collection of Python guides and Data science articles. Additionally, if you choose to sign up through my referral link, I’ll receive a modest commission at no extra cost to you.\n"
   ]
  },
  {
   "cell_type": "markdown",
   "id": "f22018a5",
   "metadata": {},
   "source": [
    "## References:\n",
    "\n",
    "[1]\tLinkedIn Contacts Automation with Selenium - Step by Step Bot, (2021). Accessed: Sep. 05, 2023. [Online Video]. Available: https://www.youtube.com/watch?v=7aIb6iQZkDw  \n",
    "\n",
    "[2]\t“ChromeDriver - WebDriver for Chrome.” https://chromedriver.chromium.org/ (accessed Mar. 17, 2023).\n",
    "[3]\tP. Yoho, “Installing Selenium and Chromedriver on Windows,” Medium, Jan. 30, 2019. \n",
    "\n",
    "https://medium.com/@patrick.yoho11/installing-selenium-and-chromedriver-on-windows-e02202ac2b08 (accessed Sep. 04, 2023).\n",
    "\n",
    "\n"
   ]
  },
  {
   "cell_type": "code",
   "execution_count": null,
   "id": "b4c73937",
   "metadata": {},
   "outputs": [],
   "source": []
  },
  {
   "cell_type": "code",
   "execution_count": null,
   "id": "6593c2eb",
   "metadata": {},
   "outputs": [],
   "source": []
  },
  {
   "cell_type": "code",
   "execution_count": null,
   "id": "e1393404",
   "metadata": {},
   "outputs": [],
   "source": []
  }
 ],
 "metadata": {
  "kernelspec": {
   "display_name": "Python 3 (ipykernel)",
   "language": "python",
   "name": "python3"
  },
  "language_info": {
   "codemirror_mode": {
    "name": "ipython",
    "version": 3
   },
   "file_extension": ".py",
   "mimetype": "text/x-python",
   "name": "python",
   "nbconvert_exporter": "python",
   "pygments_lexer": "ipython3",
   "version": "3.11.4"
  },
  "toc": {
   "base_numbering": 1,
   "nav_menu": {},
   "number_sections": true,
   "sideBar": false,
   "skip_h1_title": true,
   "title_cell": "Table of Contents",
   "title_sidebar": "Contents",
   "toc_cell": true,
   "toc_position": {
    "height": "512.5px",
    "left": "278px",
    "top": "139.635px",
    "width": "159.492px"
   },
   "toc_section_display": true,
   "toc_window_display": false
  }
 },
 "nbformat": 4,
 "nbformat_minor": 5
}
